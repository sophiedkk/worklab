{
 "cells": [
  {
   "cell_type": "markdown",
   "metadata": {
    "collapsed": true
   },
   "source": [
    "# Working with measurement wheel data"
   ]
  },
  {
   "cell_type": "markdown",
   "metadata": {},
   "source": [
    "Import the worklab module"
   ]
  },
  {
   "cell_type": "code",
   "execution_count": 1,
   "metadata": {},
   "outputs": [],
   "source": [
    "import os\n",
    "import worklab as wl"
   ]
  },
  {
   "cell_type": "markdown",
   "metadata": {},
   "source": [
    "Import the data with `com.load()` or the device specific load function:"
   ]
  },
  {
   "cell_type": "code",
   "execution_count": 2,
   "metadata": {},
   "outputs": [
    {
     "name": "stdout",
     "output_type": "stream",
     "text": [
      "\n",
      "================================================================================\n",
      "Initializing loading for C:\\Users\\rick_\\Development\\worklab2\\example_data\\Optipush_example.data ...\n",
      "File identified as Optipush datafile. Attempting to load ...\n",
      "Data loaded!\n",
      "================================================================================\n",
      "\n",
      "Measurement wheel data is stored in a:  <class 'pandas.core.frame.DataFrame'>\n"
     ]
    }
   ],
   "source": [
    "filename = os.getcwd()\n",
    "filename = os.path.join(os.path.split(filename)[0], 'example_data', 'Optipush_example.data')\n",
    "mw_data = wl.com.load(filename)\n",
    "print(\"Measurement wheel data is stored in a: \", type(mw_data))"
   ]
  },
  {
   "cell_type": "markdown",
   "metadata": {},
   "source": [
    "The DataFrame contains all the information from the file, but nothing extra:"
   ]
  },
  {
   "cell_type": "code",
   "execution_count": 3,
   "metadata": {},
   "outputs": [
    {
     "data": {
      "text/plain": [
       "Index(['time', 'fx', 'fy', 'fz', 'mx', 'my', 'torque', 'angle'], dtype='object')"
      ]
     },
     "execution_count": 3,
     "metadata": {},
     "output_type": "execute_result"
    }
   ],
   "source": [
    "mw_data.columns"
   ]
  },
  {
   "cell_type": "markdown",
   "metadata": {},
   "source": [
    "Before getting more infos it would be a good idea to apply some filtering:"
   ]
  },
  {
   "cell_type": "code",
   "execution_count": 4,
   "metadata": {},
   "outputs": [],
   "source": [
    "mw_data = wl.kin.filter_mw(mw_data)"
   ]
  },
  {
   "cell_type": "markdown",
   "metadata": {},
   "source": [
    "Now let's get more infos:"
   ]
  },
  {
   "cell_type": "code",
   "execution_count": 5,
   "metadata": {},
   "outputs": [
    {
     "data": {
      "text/html": [
       "<div>\n",
       "<style scoped>\n",
       "    .dataframe tbody tr th:only-of-type {\n",
       "        vertical-align: middle;\n",
       "    }\n",
       "\n",
       "    .dataframe tbody tr th {\n",
       "        vertical-align: top;\n",
       "    }\n",
       "\n",
       "    .dataframe thead th {\n",
       "        text-align: right;\n",
       "    }\n",
       "</style>\n",
       "<table border=\"1\" class=\"dataframe\">\n",
       "  <thead>\n",
       "    <tr style=\"text-align: right;\">\n",
       "      <th></th>\n",
       "      <th>time</th>\n",
       "      <th>fx</th>\n",
       "      <th>fy</th>\n",
       "      <th>fz</th>\n",
       "      <th>mx</th>\n",
       "      <th>my</th>\n",
       "      <th>torque</th>\n",
       "      <th>angle</th>\n",
       "      <th>aspeed</th>\n",
       "      <th>speed</th>\n",
       "      <th>dist</th>\n",
       "      <th>acc</th>\n",
       "      <th>ftot</th>\n",
       "      <th>uforce</th>\n",
       "      <th>force</th>\n",
       "      <th>power</th>\n",
       "      <th>work</th>\n",
       "    </tr>\n",
       "  </thead>\n",
       "  <tbody>\n",
       "    <tr>\n",
       "      <th>0</th>\n",
       "      <td>0.000</td>\n",
       "      <td>2.838031</td>\n",
       "      <td>1.753805</td>\n",
       "      <td>-4.058034</td>\n",
       "      <td>0.004851</td>\n",
       "      <td>0.005135</td>\n",
       "      <td>-0.054472</td>\n",
       "      <td>3.673093</td>\n",
       "      <td>3.352298</td>\n",
       "      <td>1.039212</td>\n",
       "      <td>0.000000</td>\n",
       "      <td>2.535617</td>\n",
       "      <td>5.253370</td>\n",
       "      <td>-0.198079</td>\n",
       "      <td>-0.175715</td>\n",
       "      <td>-0.182605</td>\n",
       "      <td>-0.000913</td>\n",
       "    </tr>\n",
       "    <tr>\n",
       "      <th>1</th>\n",
       "      <td>0.005</td>\n",
       "      <td>2.401395</td>\n",
       "      <td>1.666210</td>\n",
       "      <td>-4.385999</td>\n",
       "      <td>-0.002135</td>\n",
       "      <td>0.004741</td>\n",
       "      <td>-0.058072</td>\n",
       "      <td>3.689854</td>\n",
       "      <td>3.393195</td>\n",
       "      <td>1.051890</td>\n",
       "      <td>0.005228</td>\n",
       "      <td>3.594796</td>\n",
       "      <td>5.270667</td>\n",
       "      <td>-0.211171</td>\n",
       "      <td>-0.187329</td>\n",
       "      <td>-0.197050</td>\n",
       "      <td>-0.000985</td>\n",
       "    </tr>\n",
       "    <tr>\n",
       "      <th>2</th>\n",
       "      <td>0.010</td>\n",
       "      <td>1.963322</td>\n",
       "      <td>1.620943</td>\n",
       "      <td>-4.642096</td>\n",
       "      <td>-0.006774</td>\n",
       "      <td>0.002821</td>\n",
       "      <td>-0.060339</td>\n",
       "      <td>3.707025</td>\n",
       "      <td>3.468259</td>\n",
       "      <td>1.075160</td>\n",
       "      <td>0.010545</td>\n",
       "      <td>4.264677</td>\n",
       "      <td>5.294445</td>\n",
       "      <td>-0.219414</td>\n",
       "      <td>-0.194642</td>\n",
       "      <td>-0.209271</td>\n",
       "      <td>-0.001046</td>\n",
       "    </tr>\n",
       "    <tr>\n",
       "      <th>3</th>\n",
       "      <td>0.015</td>\n",
       "      <td>1.527743</td>\n",
       "      <td>1.645536</td>\n",
       "      <td>-4.771329</td>\n",
       "      <td>-0.007243</td>\n",
       "      <td>-0.001333</td>\n",
       "      <td>-0.060383</td>\n",
       "      <td>3.724537</td>\n",
       "      <td>3.530765</td>\n",
       "      <td>1.094537</td>\n",
       "      <td>0.015970</td>\n",
       "      <td>3.537893</td>\n",
       "      <td>5.273269</td>\n",
       "      <td>-0.219573</td>\n",
       "      <td>-0.194782</td>\n",
       "      <td>-0.213197</td>\n",
       "      <td>-0.001066</td>\n",
       "    </tr>\n",
       "    <tr>\n",
       "      <th>4</th>\n",
       "      <td>0.020</td>\n",
       "      <td>1.104789</td>\n",
       "      <td>1.748478</td>\n",
       "      <td>-4.743367</td>\n",
       "      <td>-0.002454</td>\n",
       "      <td>-0.007348</td>\n",
       "      <td>-0.058016</td>\n",
       "      <td>3.742333</td>\n",
       "      <td>3.582384</td>\n",
       "      <td>1.110539</td>\n",
       "      <td>0.021482</td>\n",
       "      <td>2.901078</td>\n",
       "      <td>5.174675</td>\n",
       "      <td>-0.210967</td>\n",
       "      <td>-0.187148</td>\n",
       "      <td>-0.207835</td>\n",
       "      <td>-0.001039</td>\n",
       "    </tr>\n",
       "  </tbody>\n",
       "</table>\n",
       "</div>"
      ],
      "text/plain": [
       "    time        fx        fy        fz        mx        my    torque  \\\n",
       "0  0.000  2.838031  1.753805 -4.058034  0.004851  0.005135 -0.054472   \n",
       "1  0.005  2.401395  1.666210 -4.385999 -0.002135  0.004741 -0.058072   \n",
       "2  0.010  1.963322  1.620943 -4.642096 -0.006774  0.002821 -0.060339   \n",
       "3  0.015  1.527743  1.645536 -4.771329 -0.007243 -0.001333 -0.060383   \n",
       "4  0.020  1.104789  1.748478 -4.743367 -0.002454 -0.007348 -0.058016   \n",
       "\n",
       "      angle    aspeed     speed      dist       acc      ftot    uforce  \\\n",
       "0  3.673093  3.352298  1.039212  0.000000  2.535617  5.253370 -0.198079   \n",
       "1  3.689854  3.393195  1.051890  0.005228  3.594796  5.270667 -0.211171   \n",
       "2  3.707025  3.468259  1.075160  0.010545  4.264677  5.294445 -0.219414   \n",
       "3  3.724537  3.530765  1.094537  0.015970  3.537893  5.273269 -0.219573   \n",
       "4  3.742333  3.582384  1.110539  0.021482  2.901078  5.174675 -0.210967   \n",
       "\n",
       "      force     power      work  \n",
       "0 -0.175715 -0.182605 -0.000913  \n",
       "1 -0.187329 -0.197050 -0.000985  \n",
       "2 -0.194642 -0.209271 -0.001046  \n",
       "3 -0.194782 -0.213197 -0.001066  \n",
       "4 -0.187148 -0.207835 -0.001039  "
      ]
     },
     "execution_count": 5,
     "metadata": {},
     "output_type": "execute_result"
    }
   ],
   "source": [
    "mw_data = wl.kin.process_mw(mw_data)\n",
    "mw_data.head()"
   ]
  },
  {
   "cell_type": "markdown",
   "metadata": {},
   "source": [
    "That's more like it!"
   ]
  },
  {
   "cell_type": "code",
   "execution_count": 6,
   "metadata": {
    "scrolled": true
   },
   "outputs": [
    {
     "data": {
      "image/png": "[encoded data removed]",
      "text/plain": [
       "<Figure size 432x288 with 1 Axes>"
      ]
     },
     "metadata": {
      "needs_background": "light"
     },
     "output_type": "display_data"
    }
   ],
   "source": [
    "mw_data.plot(\"time\", \"torque\");"
   ]
  },
  {
   "cell_type": "markdown",
   "metadata": {},
   "source": [
    "Let's see if we can find some pushes in these data:"
   ]
  },
  {
   "cell_type": "code",
   "execution_count": 7,
   "metadata": {
    "scrolled": true
   },
   "outputs": [
    {
     "name": "stdout",
     "output_type": "stream",
     "text": [
      "There are 29 complete pushes in the data\n"
     ]
    },
    {
     "data": {
      "text/html": [
       "<div>\n",
       "<style scoped>\n",
       "    .dataframe tbody tr th:only-of-type {\n",
       "        vertical-align: middle;\n",
       "    }\n",
       "\n",
       "    .dataframe tbody tr th {\n",
       "        vertical-align: top;\n",
       "    }\n",
       "\n",
       "    .dataframe thead th {\n",
       "        text-align: right;\n",
       "    }\n",
       "</style>\n",
       "<table border=\"1\" class=\"dataframe\">\n",
       "  <thead>\n",
       "    <tr style=\"text-align: right;\">\n",
       "      <th></th>\n",
       "      <th>stop</th>\n",
       "      <th>start</th>\n",
       "      <th>peak</th>\n",
       "      <th>tstart</th>\n",
       "      <th>tstop</th>\n",
       "      <th>tpeak</th>\n",
       "      <th>cangle</th>\n",
       "      <th>ptime</th>\n",
       "      <th>meanpower</th>\n",
       "      <th>maxpower</th>\n",
       "      <th>meantorque</th>\n",
       "      <th>maxtorque</th>\n",
       "      <th>meanforce</th>\n",
       "      <th>maxforce</th>\n",
       "      <th>work</th>\n",
       "      <th>feff</th>\n",
       "      <th>slope</th>\n",
       "      <th>ctime</th>\n",
       "      <th>reltime</th>\n",
       "    </tr>\n",
       "  </thead>\n",
       "  <tbody>\n",
       "    <tr>\n",
       "      <th>0</th>\n",
       "      <td>195</td>\n",
       "      <td>97</td>\n",
       "      <td>176</td>\n",
       "      <td>0.485</td>\n",
       "      <td>0.975</td>\n",
       "      <td>0.88</td>\n",
       "      <td>1.676823</td>\n",
       "      <td>0.490</td>\n",
       "      <td>36.376315</td>\n",
       "      <td>94.426828</td>\n",
       "      <td>10.559981</td>\n",
       "      <td>24.357933</td>\n",
       "      <td>38.399932</td>\n",
       "      <td>88.574302</td>\n",
       "      <td>18.006276</td>\n",
       "      <td>55.197071</td>\n",
       "      <td>61.665653</td>\n",
       "      <td>2.695</td>\n",
       "      <td>18.181818</td>\n",
       "    </tr>\n",
       "    <tr>\n",
       "      <th>1</th>\n",
       "      <td>735</td>\n",
       "      <td>636</td>\n",
       "      <td>718</td>\n",
       "      <td>3.180</td>\n",
       "      <td>3.675</td>\n",
       "      <td>3.59</td>\n",
       "      <td>1.630329</td>\n",
       "      <td>0.495</td>\n",
       "      <td>36.170961</td>\n",
       "      <td>86.937413</td>\n",
       "      <td>10.449778</td>\n",
       "      <td>22.283936</td>\n",
       "      <td>37.999192</td>\n",
       "      <td>81.032495</td>\n",
       "      <td>18.085480</td>\n",
       "      <td>52.638096</td>\n",
       "      <td>54.351063</td>\n",
       "      <td>3.095</td>\n",
       "      <td>15.993538</td>\n",
       "    </tr>\n",
       "    <tr>\n",
       "      <th>2</th>\n",
       "      <td>1349</td>\n",
       "      <td>1255</td>\n",
       "      <td>1330</td>\n",
       "      <td>6.275</td>\n",
       "      <td>6.745</td>\n",
       "      <td>6.65</td>\n",
       "      <td>1.601879</td>\n",
       "      <td>0.470</td>\n",
       "      <td>45.783597</td>\n",
       "      <td>102.833058</td>\n",
       "      <td>12.917944</td>\n",
       "      <td>25.623400</td>\n",
       "      <td>46.974343</td>\n",
       "      <td>93.175999</td>\n",
       "      <td>21.747209</td>\n",
       "      <td>63.410359</td>\n",
       "      <td>68.329066</td>\n",
       "      <td>3.130</td>\n",
       "      <td>15.015974</td>\n",
       "    </tr>\n",
       "    <tr>\n",
       "      <th>3</th>\n",
       "      <td>1994</td>\n",
       "      <td>1881</td>\n",
       "      <td>1972</td>\n",
       "      <td>9.405</td>\n",
       "      <td>9.970</td>\n",
       "      <td>9.86</td>\n",
       "      <td>1.781313</td>\n",
       "      <td>0.565</td>\n",
       "      <td>33.413155</td>\n",
       "      <td>86.508159</td>\n",
       "      <td>10.060917</td>\n",
       "      <td>22.747502</td>\n",
       "      <td>36.585153</td>\n",
       "      <td>82.718191</td>\n",
       "      <td>19.045498</td>\n",
       "      <td>56.930325</td>\n",
       "      <td>49.994511</td>\n",
       "      <td>3.190</td>\n",
       "      <td>17.711599</td>\n",
       "    </tr>\n",
       "    <tr>\n",
       "      <th>4</th>\n",
       "      <td>2629</td>\n",
       "      <td>2519</td>\n",
       "      <td>2612</td>\n",
       "      <td>12.595</td>\n",
       "      <td>13.145</td>\n",
       "      <td>13.06</td>\n",
       "      <td>1.897524</td>\n",
       "      <td>0.550</td>\n",
       "      <td>43.382667</td>\n",
       "      <td>118.642142</td>\n",
       "      <td>12.244082</td>\n",
       "      <td>29.976050</td>\n",
       "      <td>44.523935</td>\n",
       "      <td>109.003817</td>\n",
       "      <td>24.077380</td>\n",
       "      <td>61.715078</td>\n",
       "      <td>64.464623</td>\n",
       "      <td>3.590</td>\n",
       "      <td>15.320334</td>\n",
       "    </tr>\n",
       "  </tbody>\n",
       "</table>\n",
       "</div>"
      ],
      "text/plain": [
       "   stop  start  peak  tstart   tstop  tpeak    cangle  ptime  meanpower  \\\n",
       "0   195     97   176   0.485   0.975   0.88  1.676823  0.490  36.376315   \n",
       "1   735    636   718   3.180   3.675   3.59  1.630329  0.495  36.170961   \n",
       "2  1349   1255  1330   6.275   6.745   6.65  1.601879  0.470  45.783597   \n",
       "3  1994   1881  1972   9.405   9.970   9.86  1.781313  0.565  33.413155   \n",
       "4  2629   2519  2612  12.595  13.145  13.06  1.897524  0.550  43.382667   \n",
       "\n",
       "     maxpower  meantorque  maxtorque  meanforce    maxforce       work  \\\n",
       "0   94.426828   10.559981  24.357933  38.399932   88.574302  18.006276   \n",
       "1   86.937413   10.449778  22.283936  37.999192   81.032495  18.085480   \n",
       "2  102.833058   12.917944  25.623400  46.974343   93.175999  21.747209   \n",
       "3   86.508159   10.060917  22.747502  36.585153   82.718191  19.045498   \n",
       "4  118.642142   12.244082  29.976050  44.523935  109.003817  24.077380   \n",
       "\n",
       "        feff      slope  ctime    reltime  \n",
       "0  55.197071  61.665653  2.695  18.181818  \n",
       "1  52.638096  54.351063  3.095  15.993538  \n",
       "2  63.410359  68.329066  3.130  15.015974  \n",
       "3  56.930325  49.994511  3.190  17.711599  \n",
       "4  61.715078  64.464623  3.590  15.320334  "
      ]
     },
     "execution_count": 7,
     "metadata": {},
     "output_type": "execute_result"
    }
   ],
   "source": [
    "pushes = wl.kin.push_by_push_mw(mw_data)\n",
    "print(f\"There are {len(pushes)} complete pushes in the data\")\n",
    "pushes.head()"
   ]
  },
  {
   "cell_type": "markdown",
   "metadata": {},
   "source": [
    "You can achieve the exact same thing using the `auto_process` function. Which chains the above operations into one monolithic function and returns the data and the pushes, as such:\n",
    "```python\n",
    "mw_data, pushes = wl.kin.auto_process(mw_data, *args, **kwargs)\n",
    "```"
   ]
  },
  {
   "cell_type": "markdown",
   "metadata": {},
   "source": [
    "Now make a Christmas tree!"
   ]
  },
  {
   "cell_type": "code",
   "execution_count": 8,
   "metadata": {
    "scrolled": true
   },
   "outputs": [
    {
     "data": {
      "image/png": "[encoded data removed]",
      "text/plain": [
       "<Figure size 432x288 with 1 Axes>"
      ]
     },
     "metadata": {},
     "output_type": "display_data"
    }
   ],
   "source": [
    "wl.plots.plot_pushes(mw_data, pushes);"
   ]
  },
  {
   "cell_type": "markdown",
   "metadata": {},
   "source": [
    "Magnificent! 😍"
   ]
  }
 ],
 "metadata": {
  "hide_input": false,
  "kernelspec": {
   "display_name": "Python 3",
   "language": "python",
   "name": "python3"
  },
  "language_info": {
   "codemirror_mode": {
    "name": "ipython",
    "version": 3
   },
   "file_extension": ".py",
   "mimetype": "text/x-python",
   "name": "python",
   "nbconvert_exporter": "python",
   "pygments_lexer": "ipython3",
   "version": "3.7.3"
  },
  "toc": {
   "base_numbering": 1,
   "nav_menu": {},
   "number_sections": true,
   "sideBar": true,
   "skip_h1_title": true,
   "title_cell": "Table of Contents",
   "title_sidebar": "Contents",
   "toc_cell": false,
   "toc_position": {},
   "toc_section_display": true,
   "toc_window_display": false
  }
 },
 "nbformat": 4,
 "nbformat_minor": 1
}
