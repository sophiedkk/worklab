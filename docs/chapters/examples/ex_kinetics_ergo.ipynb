{
 "cells": [
  {
   "cell_type": "markdown",
   "metadata": {},
   "source": [
    "# Working with ergometer data"
   ]
  },
  {
   "cell_type": "markdown",
   "metadata": {},
   "source": [
    "Import the worklab module:"
   ]
  },
  {
   "cell_type": "code",
   "execution_count": 1,
   "metadata": {},
   "outputs": [],
   "source": [
    "import os\n",
    "import worklab as wl"
   ]
  },
  {
   "cell_type": "markdown",
   "metadata": {},
   "source": [
    "\n",
    "Import the data with com.load() or the device specific load function:"
   ]
  },
  {
   "cell_type": "code",
   "execution_count": 4,
   "metadata": {
    "scrolled": true
   },
   "outputs": [
    {
     "name": "stdout",
     "output_type": "stream",
     "text": [
      "\n",
      "================================================================================\n",
      "Initializing loading for C:\\Users\\Janssen\\PycharmProjects\\worklab\\docs\\chapters\\examples\\example_data\\Esseda_example_LEM.xls ...\n",
      "File identified as Esseda datafile. Attempting to load ...\n",
      "Data loaded!\n",
      "================================================================================\n",
      "\n",
      "Ergometer data is stored in a:  <class 'dict'>\n"
     ]
    }
   ],
   "source": [
    "filename = os.getcwd()\n",
    "filename = os.path.join(filename, 'example_data', 'Esseda_example_LEM.xls')\n",
    "ergo_data = wl.com.load(filename)\n",
    "print(\"Ergometer data is stored in a: \", type(ergo_data))"
   ]
  },
  {
   "cell_type": "code",
   "execution_count": 3,
   "metadata": {},
   "outputs": [
    {
     "data": {
      "text/plain": [
       "dict_keys(['left', 'right'])"
      ]
     },
     "execution_count": 3,
     "metadata": {},
     "output_type": "execute_result"
    }
   ],
   "source": [
    "ergo_data.keys()"
   ]
  },
  {
   "cell_type": "markdown",
   "metadata": {},
   "source": [
    "The ergometer data is a little more simple than measurement wheel data, (but you do have two modules):"
   ]
  },
  {
   "cell_type": "code",
   "execution_count": 4,
   "metadata": {},
   "outputs": [
    {
     "data": {
      "text/html": [
       "<div>\n",
       "<style scoped>\n",
       "    .dataframe tbody tr th:only-of-type {\n",
       "        vertical-align: middle;\n",
       "    }\n",
       "\n",
       "    .dataframe tbody tr th {\n",
       "        vertical-align: top;\n",
       "    }\n",
       "\n",
       "    .dataframe thead th {\n",
       "        text-align: right;\n",
       "    }\n",
       "</style>\n",
       "<table border=\"1\" class=\"dataframe\">\n",
       "  <thead>\n",
       "    <tr style=\"text-align: right;\">\n",
       "      <th></th>\n",
       "      <th>time</th>\n",
       "      <th>force</th>\n",
       "      <th>speed</th>\n",
       "    </tr>\n",
       "  </thead>\n",
       "  <tbody>\n",
       "    <tr>\n",
       "      <th>0</th>\n",
       "      <td>0.01</td>\n",
       "      <td>0.788487</td>\n",
       "      <td>0.0</td>\n",
       "    </tr>\n",
       "    <tr>\n",
       "      <th>1</th>\n",
       "      <td>0.02</td>\n",
       "      <td>0.780378</td>\n",
       "      <td>0.0</td>\n",
       "    </tr>\n",
       "    <tr>\n",
       "      <th>2</th>\n",
       "      <td>0.03</td>\n",
       "      <td>0.797562</td>\n",
       "      <td>0.0</td>\n",
       "    </tr>\n",
       "    <tr>\n",
       "      <th>3</th>\n",
       "      <td>0.04</td>\n",
       "      <td>0.792799</td>\n",
       "      <td>0.0</td>\n",
       "    </tr>\n",
       "    <tr>\n",
       "      <th>4</th>\n",
       "      <td>0.05</td>\n",
       "      <td>0.838543</td>\n",
       "      <td>0.0</td>\n",
       "    </tr>\n",
       "  </tbody>\n",
       "</table>\n",
       "</div>"
      ],
      "text/plain": [
       "   time     force  speed\n",
       "0  0.01  0.788487    0.0\n",
       "1  0.02  0.780378    0.0\n",
       "2  0.03  0.797562    0.0\n",
       "3  0.04  0.792799    0.0\n",
       "4  0.05  0.838543    0.0"
      ]
     },
     "execution_count": 4,
     "metadata": {},
     "output_type": "execute_result"
    }
   ],
   "source": [
    "ergo_data[\"left\"].head()"
   ]
  },
  {
   "cell_type": "markdown",
   "metadata": {},
   "source": [
    "Processing is identical however:\n",
    "\n",
    "- filter\n",
    "- process\n",
    "- push-by-push"
   ]
  },
  {
   "cell_type": "code",
   "execution_count": 5,
   "metadata": {},
   "outputs": [
    {
     "data": {
      "text/html": [
       "<div>\n",
       "<style scoped>\n",
       "    .dataframe tbody tr th:only-of-type {\n",
       "        vertical-align: middle;\n",
       "    }\n",
       "\n",
       "    .dataframe tbody tr th {\n",
       "        vertical-align: top;\n",
       "    }\n",
       "\n",
       "    .dataframe thead th {\n",
       "        text-align: right;\n",
       "    }\n",
       "</style>\n",
       "<table border=\"1\" class=\"dataframe\">\n",
       "  <thead>\n",
       "    <tr style=\"text-align: right;\">\n",
       "      <th></th>\n",
       "      <th>time</th>\n",
       "      <th>force</th>\n",
       "      <th>speed</th>\n",
       "      <th>torque</th>\n",
       "      <th>acc</th>\n",
       "      <th>power</th>\n",
       "      <th>dist</th>\n",
       "      <th>work</th>\n",
       "      <th>uforce</th>\n",
       "      <th>aspeed</th>\n",
       "      <th>angle</th>\n",
       "    </tr>\n",
       "  </thead>\n",
       "  <tbody>\n",
       "    <tr>\n",
       "      <th>0</th>\n",
       "      <td>0.01</td>\n",
       "      <td>0.788493</td>\n",
       "      <td>-1.163828e-14</td>\n",
       "      <td>0.244433</td>\n",
       "      <td>-2.799567e-13</td>\n",
       "      <td>-9.176693e-15</td>\n",
       "      <td>0.000000e+00</td>\n",
       "      <td>-9.176693e-17</td>\n",
       "      <td>0.888846</td>\n",
       "      <td>-3.754282e-14</td>\n",
       "      <td>0.000000e+00</td>\n",
       "    </tr>\n",
       "    <tr>\n",
       "      <th>1</th>\n",
       "      <td>0.02</td>\n",
       "      <td>0.793392</td>\n",
       "      <td>-1.443784e-14</td>\n",
       "      <td>0.245951</td>\n",
       "      <td>-2.414086e-13</td>\n",
       "      <td>-1.145486e-14</td>\n",
       "      <td>-1.303806e-16</td>\n",
       "      <td>-1.145486e-16</td>\n",
       "      <td>0.894369</td>\n",
       "      <td>-4.657369e-14</td>\n",
       "      <td>-4.205825e-16</td>\n",
       "    </tr>\n",
       "    <tr>\n",
       "      <th>2</th>\n",
       "      <td>0.03</td>\n",
       "      <td>0.802370</td>\n",
       "      <td>-1.646645e-14</td>\n",
       "      <td>0.248735</td>\n",
       "      <td>-1.179231e-13</td>\n",
       "      <td>-1.321219e-14</td>\n",
       "      <td>-2.849020e-16</td>\n",
       "      <td>-1.321219e-16</td>\n",
       "      <td>0.904490</td>\n",
       "      <td>-5.311757e-14</td>\n",
       "      <td>-9.190388e-16</td>\n",
       "    </tr>\n",
       "    <tr>\n",
       "      <th>3</th>\n",
       "      <td>0.04</td>\n",
       "      <td>0.812440</td>\n",
       "      <td>-1.679630e-14</td>\n",
       "      <td>0.251857</td>\n",
       "      <td>1.148631e-13</td>\n",
       "      <td>-1.364600e-14</td>\n",
       "      <td>-4.512158e-16</td>\n",
       "      <td>-1.364600e-16</td>\n",
       "      <td>0.915842</td>\n",
       "      <td>-5.418163e-14</td>\n",
       "      <td>-1.455535e-15</td>\n",
       "    </tr>\n",
       "    <tr>\n",
       "      <th>4</th>\n",
       "      <td>0.05</td>\n",
       "      <td>0.811675</td>\n",
       "      <td>-1.416918e-14</td>\n",
       "      <td>0.251619</td>\n",
       "      <td>4.896777e-13</td>\n",
       "      <td>-1.150078e-14</td>\n",
       "      <td>-6.060432e-16</td>\n",
       "      <td>-1.150078e-16</td>\n",
       "      <td>0.914979</td>\n",
       "      <td>-4.570705e-14</td>\n",
       "      <td>-1.954978e-15</td>\n",
       "    </tr>\n",
       "  </tbody>\n",
       "</table>\n",
       "</div>"
      ],
      "text/plain": [
       "   time     force         speed    torque           acc         power  \\\n",
       "0  0.01  0.788493 -1.163828e-14  0.244433 -2.799567e-13 -9.176693e-15   \n",
       "1  0.02  0.793392 -1.443784e-14  0.245951 -2.414086e-13 -1.145486e-14   \n",
       "2  0.03  0.802370 -1.646645e-14  0.248735 -1.179231e-13 -1.321219e-14   \n",
       "3  0.04  0.812440 -1.679630e-14  0.251857  1.148631e-13 -1.364600e-14   \n",
       "4  0.05  0.811675 -1.416918e-14  0.251619  4.896777e-13 -1.150078e-14   \n",
       "\n",
       "           dist          work    uforce        aspeed         angle  \n",
       "0  0.000000e+00 -9.176693e-17  0.888846 -3.754282e-14  0.000000e+00  \n",
       "1 -1.303806e-16 -1.145486e-16  0.894369 -4.657369e-14 -4.205825e-16  \n",
       "2 -2.849020e-16 -1.321219e-16  0.904490 -5.311757e-14 -9.190388e-16  \n",
       "3 -4.512158e-16 -1.364600e-16  0.915842 -5.418163e-14 -1.455535e-15  \n",
       "4 -6.060432e-16 -1.150078e-16  0.914979 -4.570705e-14 -1.954978e-15  "
      ]
     },
     "execution_count": 5,
     "metadata": {},
     "output_type": "execute_result"
    }
   ],
   "source": [
    "ergo_data = wl.kin.filter_ergo(ergo_data)\n",
    "ergo_data = wl.kin.process_ergo(ergo_data)\n",
    "ergo_data[\"left\"].head()"
   ]
  },
  {
   "cell_type": "markdown",
   "metadata": {},
   "source": [
    "Now you have almost all parameters that you will ever need:"
   ]
  },
  {
   "cell_type": "code",
   "execution_count": 6,
   "metadata": {},
   "outputs": [
    {
     "data": {
      "image/png": "[encoded data removed]",
      "text/plain": [
       "<Figure size 432x288 with 1 Axes>"
      ]
     },
     "metadata": {
      "needs_background": "light"
     },
     "output_type": "display_data"
    }
   ],
   "source": [
    "ergo_data[\"left\"].plot(\"time\", \"torque\");"
   ]
  },
  {
   "cell_type": "markdown",
   "metadata": {},
   "source": [
    "Let's do a Christmas tree for a smaller section of the data:"
   ]
  },
  {
   "cell_type": "code",
   "execution_count": 7,
   "metadata": {},
   "outputs": [],
   "source": [
    "ergo_data[\"left\"] = ergo_data[\"left\"].iloc[:3000, :]\n",
    "ergo_data[\"right\"] = ergo_data[\"right\"].iloc[:3000, :]"
   ]
  },
  {
   "cell_type": "markdown",
   "metadata": {},
   "source": [
    "Get the pushes with the push by push function:"
   ]
  },
  {
   "cell_type": "code",
   "execution_count": 8,
   "metadata": {},
   "outputs": [
    {
     "name": "stdout",
     "output_type": "stream",
     "text": [
      "<class 'dict'>\n",
      "dict_keys(['left', 'right'])\n"
     ]
    },
    {
     "data": {
      "text/html": [
       "<div>\n",
       "<style scoped>\n",
       "    .dataframe tbody tr th:only-of-type {\n",
       "        vertical-align: middle;\n",
       "    }\n",
       "\n",
       "    .dataframe tbody tr th {\n",
       "        vertical-align: top;\n",
       "    }\n",
       "\n",
       "    .dataframe thead th {\n",
       "        text-align: right;\n",
       "    }\n",
       "</style>\n",
       "<table border=\"1\" class=\"dataframe\">\n",
       "  <thead>\n",
       "    <tr style=\"text-align: right;\">\n",
       "      <th></th>\n",
       "      <th>stop</th>\n",
       "      <th>start</th>\n",
       "      <th>peak</th>\n",
       "      <th>tstart</th>\n",
       "      <th>tstop</th>\n",
       "      <th>tpeak</th>\n",
       "      <th>cangle</th>\n",
       "      <th>ptime</th>\n",
       "      <th>meanpower</th>\n",
       "      <th>maxpower</th>\n",
       "      <th>meantorque</th>\n",
       "      <th>maxtorque</th>\n",
       "      <th>meanforce</th>\n",
       "      <th>maxforce</th>\n",
       "      <th>work</th>\n",
       "      <th>slope</th>\n",
       "      <th>ctime</th>\n",
       "      <th>reltime</th>\n",
       "    </tr>\n",
       "  </thead>\n",
       "  <tbody>\n",
       "    <tr>\n",
       "      <th>0</th>\n",
       "      <td>351</td>\n",
       "      <td>276</td>\n",
       "      <td>311</td>\n",
       "      <td>2.77</td>\n",
       "      <td>3.52</td>\n",
       "      <td>3.12</td>\n",
       "      <td>1.180683</td>\n",
       "      <td>0.75</td>\n",
       "      <td>34.260157</td>\n",
       "      <td>77.243329</td>\n",
       "      <td>20.808663</td>\n",
       "      <td>33.636038</td>\n",
       "      <td>75.667865</td>\n",
       "      <td>122.312864</td>\n",
       "      <td>26.037719</td>\n",
       "      <td>96.102965</td>\n",
       "      <td>1.15</td>\n",
       "      <td>65.217391</td>\n",
       "    </tr>\n",
       "    <tr>\n",
       "      <th>1</th>\n",
       "      <td>419</td>\n",
       "      <td>391</td>\n",
       "      <td>409</td>\n",
       "      <td>3.92</td>\n",
       "      <td>4.20</td>\n",
       "      <td>4.10</td>\n",
       "      <td>1.122666</td>\n",
       "      <td>0.28</td>\n",
       "      <td>67.705997</td>\n",
       "      <td>142.440912</td>\n",
       "      <td>16.666537</td>\n",
       "      <td>34.028533</td>\n",
       "      <td>60.605589</td>\n",
       "      <td>123.740121</td>\n",
       "      <td>19.634739</td>\n",
       "      <td>189.047406</td>\n",
       "      <td>0.77</td>\n",
       "      <td>36.363636</td>\n",
       "    </tr>\n",
       "    <tr>\n",
       "      <th>2</th>\n",
       "      <td>474</td>\n",
       "      <td>468</td>\n",
       "      <td>472</td>\n",
       "      <td>4.69</td>\n",
       "      <td>4.75</td>\n",
       "      <td>4.73</td>\n",
       "      <td>0.272526</td>\n",
       "      <td>0.06</td>\n",
       "      <td>15.354861</td>\n",
       "      <td>27.136431</td>\n",
       "      <td>3.381357</td>\n",
       "      <td>5.975240</td>\n",
       "      <td>12.295844</td>\n",
       "      <td>21.728147</td>\n",
       "      <td>1.074840</td>\n",
       "      <td>149.381011</td>\n",
       "      <td>0.12</td>\n",
       "      <td>50.000000</td>\n",
       "    </tr>\n",
       "    <tr>\n",
       "      <th>3</th>\n",
       "      <td>493</td>\n",
       "      <td>480</td>\n",
       "      <td>487</td>\n",
       "      <td>4.81</td>\n",
       "      <td>4.94</td>\n",
       "      <td>4.88</td>\n",
       "      <td>0.599194</td>\n",
       "      <td>0.13</td>\n",
       "      <td>44.567863</td>\n",
       "      <td>79.093543</td>\n",
       "      <td>9.648388</td>\n",
       "      <td>17.036661</td>\n",
       "      <td>35.085049</td>\n",
       "      <td>61.951494</td>\n",
       "      <td>6.239501</td>\n",
       "      <td>243.380868</td>\n",
       "      <td>0.60</td>\n",
       "      <td>21.666667</td>\n",
       "    </tr>\n",
       "    <tr>\n",
       "      <th>4</th>\n",
       "      <td>547</td>\n",
       "      <td>540</td>\n",
       "      <td>543</td>\n",
       "      <td>5.41</td>\n",
       "      <td>5.48</td>\n",
       "      <td>5.44</td>\n",
       "      <td>0.319896</td>\n",
       "      <td>0.07</td>\n",
       "      <td>31.561252</td>\n",
       "      <td>54.087009</td>\n",
       "      <td>6.901818</td>\n",
       "      <td>11.812804</td>\n",
       "      <td>25.097520</td>\n",
       "      <td>42.955650</td>\n",
       "      <td>2.524900</td>\n",
       "      <td>393.760127</td>\n",
       "      <td>0.12</td>\n",
       "      <td>58.333333</td>\n",
       "    </tr>\n",
       "  </tbody>\n",
       "</table>\n",
       "</div>"
      ],
      "text/plain": [
       "   stop  start  peak  tstart  tstop  tpeak    cangle  ptime  meanpower  \\\n",
       "0   351    276   311    2.77   3.52   3.12  1.180683   0.75  34.260157   \n",
       "1   419    391   409    3.92   4.20   4.10  1.122666   0.28  67.705997   \n",
       "2   474    468   472    4.69   4.75   4.73  0.272526   0.06  15.354861   \n",
       "3   493    480   487    4.81   4.94   4.88  0.599194   0.13  44.567863   \n",
       "4   547    540   543    5.41   5.48   5.44  0.319896   0.07  31.561252   \n",
       "\n",
       "     maxpower  meantorque  maxtorque  meanforce    maxforce       work  \\\n",
       "0   77.243329   20.808663  33.636038  75.667865  122.312864  26.037719   \n",
       "1  142.440912   16.666537  34.028533  60.605589  123.740121  19.634739   \n",
       "2   27.136431    3.381357   5.975240  12.295844   21.728147   1.074840   \n",
       "3   79.093543    9.648388  17.036661  35.085049   61.951494   6.239501   \n",
       "4   54.087009    6.901818  11.812804  25.097520   42.955650   2.524900   \n",
       "\n",
       "        slope  ctime    reltime  \n",
       "0   96.102965   1.15  65.217391  \n",
       "1  189.047406   0.77  36.363636  \n",
       "2  149.381011   0.12  50.000000  \n",
       "3  243.380868   0.60  21.666667  \n",
       "4  393.760127   0.12  58.333333  "
      ]
     },
     "execution_count": 8,
     "metadata": {},
     "output_type": "execute_result"
    }
   ],
   "source": [
    "pushes = wl.kin.push_by_push_ergo(ergo_data)\n",
    "print(type(pushes))\n",
    "print(pushes.keys())\n",
    "pushes[\"left\"].head()"
   ]
  },
  {
   "cell_type": "markdown",
   "metadata": {},
   "source": [
    "This is all very similar to the measurement wheel, except you don't have access to 3D forces. Similar to the measurement wheel data, all of the above can be achieved with the `auto_process` function."
   ]
  },
  {
   "cell_type": "code",
   "execution_count": 9,
   "metadata": {},
   "outputs": [
    {
     "data": {
      "image/png": "[encoded data removed]",
      "text/plain": [
       "<Figure size 432x288 with 2 Axes>"
      ]
     },
     "metadata": {
      "needs_background": "light"
     },
     "output_type": "display_data"
    }
   ],
   "source": [
    "wl.plots.plot_ergometer_pushes(ergo_data, pushes);"
   ]
  },
  {
   "cell_type": "markdown",
   "metadata": {},
   "source": [
    "Very festive! 🎄"
   ]
  }
 ],
 "metadata": {
  "hide_input": false,
  "kernelspec": {
   "display_name": "Python 3",
   "language": "python",
   "name": "python3"
  },
  "language_info": {
   "codemirror_mode": {
    "name": "ipython",
    "version": 3
   },
   "file_extension": ".py",
   "mimetype": "text/x-python",
   "name": "python",
   "nbconvert_exporter": "python",
   "pygments_lexer": "ipython3",
   "version": "3.7.3"
  },
  "pycharm": {
   "stem_cell": {
    "cell_type": "raw",
    "metadata": {
     "collapsed": false
    },
    "source": []
   }
  },
  "toc": {
   "base_numbering": 1,
   "nav_menu": {},
   "number_sections": true,
   "sideBar": true,
   "skip_h1_title": true,
   "title_cell": "Table of Contents",
   "title_sidebar": "Contents",
   "toc_cell": false,
   "toc_position": {},
   "toc_section_display": true,
   "toc_window_display": false
  }
 },
 "nbformat": 4,
 "nbformat_minor": 1
}
